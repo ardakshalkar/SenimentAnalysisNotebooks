{
 "cells": [
  {
   "cell_type": "code",
   "execution_count": 4,
   "metadata": {},
   "outputs": [],
   "source": [
    "from sklearn.feature_extraction.text import TfidfVectorizer, CountVectorizer\n",
    "from sklearn.model_selection import train_test_split as tts\n",
    "from sklearn.feature_extraction.text import CountVectorizer\n",
    "import re\n",
    "import pandas as pd\n",
    "import numpy as np\n",
    "from sklearn.model_selection import cross_val_score\n",
    "from sklearn.metrics import accuracy_score\n",
    "from sklearn.metrics import recall_score\n",
    "from sklearn.metrics import precision_score\n",
    "from sklearn.metrics import accuracy_score\n",
    "from sklearn.metrics import recall_score\n",
    "from sklearn.metrics import precision_score\n",
    "from sklearn.linear_model import LogisticRegression\n",
    "vectorizer = TfidfVectorizer()\n",
    "\n",
    "data = pd.read_csv('text.csv')\n",
    "\n",
    "X,y = data['text'],data.type\n",
    "X = vectorizer.fit_transform(X)"
   ]
  },
  {
   "cell_type": "code",
   "execution_count": 5,
   "metadata": {},
   "outputs": [
    {
     "name": "stdout",
     "output_type": "stream",
     "text": [
      "0.7126564279064076\n"
     ]
    }
   ],
   "source": [
    "lr = LogisticRegression()\n",
    "print cross_val_score(lr, X, y).mean()"
   ]
  },
  {
   "cell_type": "code",
   "execution_count": null,
   "metadata": {},
   "outputs": [
    {
     "name": "stdout",
     "output_type": "stream",
     "text": [
      "0    - Дашаа,а почему Алиночка,в чем подвох?)\\n- Не...\n",
      "1           @KOT_XA33bl ты заипал\\nпиши в отклики(((((\n",
      "2        @schutskaya кстати я скучаю по Джаббе... :(((\n",
      "3    Пиздец, граждане! Чтобы запустить прогу размер...\n",
      "4    Где-то на этом моменте я потянула связки. :-( ...\n",
      "Name: text, dtype: object\n",
      "********************\n"
     ]
    },
    {
     "name": "stderr",
     "output_type": "stream",
     "text": [
      "/usr/local/lib/python2.7/dist-packages/pandas/core/indexing.py:194: SettingWithCopyWarning: \n",
      "A value is trying to be set on a copy of a slice from a DataFrame\n",
      "\n",
      "See the caveats in the documentation: http://pandas.pydata.org/pandas-docs/stable/indexing.html#indexing-view-versus-copy\n",
      "  self._setitem_with_indexer(indexer, value)\n"
     ]
    }
   ],
   "source": [
    "import re\n",
    "import pymorphy2\n",
    "morph = pymorphy2.MorphAnalyzer()\n",
    "X,y = data['text'],data.type\n",
    "print X.head(5)\n",
    "print \"********************\"\n",
    "for i in range(0, len(X)):\n",
    "    s = X.iloc[i]\n",
    "    s = re.split(\"\\s+|,\",s)\n",
    "    for ss in range(len(s)):\n",
    "        t = s[ss].strip(' \\t\\n\\r')\n",
    "        s[ss] = morph.parse(t.decode('utf-8'))[0].normal_form\n",
    "    X.iloc[i] = \" \".join(s)\n",
    "print X.head(5)"
   ]
  },
  {
   "cell_type": "code",
   "execution_count": 6,
   "metadata": {},
   "outputs": [
    {
     "name": "stdout",
     "output_type": "stream",
     "text": [
      "0.7113750665931932\n"
     ]
    }
   ],
   "source": [
    "data = pd.read_csv('normalText.csv')\n",
    "Xn,yn = data['text'],data.type\n",
    "Xn = vectorizer.fit_transform(Xn)\n",
    "lr = LogisticRegression()\n",
    "print cross_val_score(lr, Xn, yn).mean()"
   ]
  },
  {
   "cell_type": "code",
   "execution_count": 46,
   "metadata": {},
   "outputs": [
    {
     "name": "stdout",
     "output_type": "stream",
     "text": [
      "(23411,)\n"
     ]
    }
   ],
   "source": [
    "X_train,X_test,y_train,y_test = tts(X,y,test_size=0.3)\n",
    "X_train = vectorizer.fit_transform(X_train)\n",
    "X_test = vectorizer.transform(X_test)\n",
    "print X.shape"
   ]
  },
  {
   "cell_type": "code",
   "execution_count": 41,
   "metadata": {},
   "outputs": [],
   "source": [
    "data.to_csv(\"normalText.csv\",index=False,encoding='utf-8')"
   ]
  }
 ],
 "metadata": {
  "kernelspec": {
   "display_name": "Python 2",
   "language": "python",
   "name": "python2"
  },
  "language_info": {
   "codemirror_mode": {
    "name": "ipython",
    "version": 2
   },
   "file_extension": ".py",
   "mimetype": "text/x-python",
   "name": "python",
   "nbconvert_exporter": "python",
   "pygments_lexer": "ipython2",
   "version": "2.7.12"
  }
 },
 "nbformat": 4,
 "nbformat_minor": 2
}
