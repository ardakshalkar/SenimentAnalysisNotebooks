{
 "cells": [
  {
   "cell_type": "code",
   "execution_count": 10,
   "metadata": {},
   "outputs": [
    {
     "name": "stdout",
     "output_type": "stream",
     "text": [
      "(23411,)\n",
      "count    23411.000000\n",
      "mean         0.490752\n",
      "std          0.499925\n",
      "min          0.000000\n",
      "25%          0.000000\n",
      "50%          0.000000\n",
      "75%          1.000000\n",
      "max          1.000000\n",
      "Name: type, dtype: float64\n"
     ]
    }
   ],
   "source": [
    "from sklearn.feature_extraction.text import TfidfVectorizer, CountVectorizer\n",
    "from sklearn.model_selection import train_test_split as tts\n",
    "import pandas as pd\n",
    "import numpy as np\n",
    "from sklearn.metrics import accuracy_score\n",
    "from sklearn.metrics import recall_score\n",
    "from sklearn.metrics import precision_score\n",
    "vectorizer = TfidfVectorizer()\n",
    "\n",
    "data = pd.read_csv('text.csv')\n",
    "\n",
    "X,y = data['text'],data.type\n",
    "print y.shape\n",
    "y = pd.to_numeric(y,errors='ignore')\n",
    "print y.describe()\n",
    "X_train,X_test,y_train,y_test = tts(X,y,test_size=0.3)\n",
    "X_train = vectorizer.fit_transform(X_train)\n",
    "X_test = vectorizer.transform(X_test)"
   ]
  },
  {
   "cell_type": "code",
   "execution_count": 11,
   "metadata": {},
   "outputs": [],
   "source": [
    "from sklearn.linear_model import LogisticRegression\n",
    "lr = LogisticRegression()\n",
    "lr.fit(X_train,y_train)\n",
    "y_predict = lr.predict(X_test)"
   ]
  },
  {
   "cell_type": "code",
   "execution_count": 9,
   "metadata": {
    "collapsed": true
   },
   "outputs": [
    {
     "name": "stdout",
     "output_type": "stream",
     "text": [
      "['1' '0' ':(' '(( http://t.co/qa42cg3wYm' 'amp' '('\n",
      " '( \\xd0\\xbb\\xd1\\x8e\\xd0\\xb1\\xd0\\xbb\\xd1\\x8e\\xd1\\x8e\\xd1\\x8e\\xd1\\x8e\\xd1\\x8e\\xd1\\x8e \\xd0\\xb5\\xd0\\xb3\\xd0\\xbe!!! #\\xd0\\xb2\\xd0\\xbe\\xd1\\x81\\xd0\\xbf\\xd0\\xbe\\xd0\\xbc\\xd0\\xb8\\xd0\\xbd\\xd0\\xb0\\xd0\\xbd\\xd0\\xb8\\xd1\\x8f\\xd0\\xbc\\xd1\\x83\\xd1\\x87\\xd0\\xb0\\xd1\\x8e\\xd1\\x82 http://t.co/oubN25IGuI'\n",
      " '(((' '(  http://t.co/P9IsVnXrhV' ' 08.07.1839'\n",
      " '(( \\xd0\\xb8\\xd0\\xbb\\xd0\\xb8 \\xd0\\xbf\\xd1\\x83\\xd1\\x81\\xd1\\x82\\xd1\\x8c \\xd0\\xb8\\xd0\\xb4\\xd0\\xb5\\xd1\\x82 \\xd1\\x82\\xd1\\x8e\\xd0\\xbb\\xd1\\x8c\\xd0\\xbf\\xd0\\xb0\\xd0\\xbd\\xd1\\x8b \\xd0\\xb2\\xd1\\x8b\\xd1\\x80\\xd0\\xb0\\xd1\\x89\\xd0\\xb8\\xd0\\xb2\\xd0\\xb0\\xd0\\xb5\\xd1\\x82 :3'\n",
      " '((' 'Err:511'\n",
      " '( \\xd0\\xb3\\xd0\\xb4\\xd0\\xb5 \\xd0\\xbc\\xd0\\xbe\\xd0\\xb5 \\xd0\\xbd\\xd0\\xb0\\xd1\\x81\\xd1\\x82\\xd1\\x80\\xd0\\xbe\\xd0\\xb5\\xd0\\xbd\\xd0\\xb8\\xd0\\xb5??? \\xd0\\xb8\\xd0\\xbb\\xd0\\xb8 \\xd0\\xbe\\xd0\\xbf\\xd1\\x8f\\xd1\\x82\\xd1\\x8c \\xd0\\xba\\xd0\\xbe \\xd0\\xbc\\xd0\\xbd\\xd0\\xb5 \\xd0\\xbf\\xd1\\x80\\xd0\\xb8\\xd1\\x88\\xd0\\xbb\\xd0\\xb0 \\xd0\\xb4\\xd0\\xb5\\xd0\\xbf\\xd1\\x80\\xd0\\xb5\\xd1\\x81\\xd1\\x81\\xd0\\xb8\\xd1\\x8f????'\n",
      " ' (' '((((('\n",
      " '( \\xd1\\x8d\\xd1\\x82\\xd0\\xbe \\xd0\\xbc\\xd0\\xb0\\xd0\\xbb\\xd0\\xb5\\xd0\\xbd\\xd1\\x8c\\xd0\\xba\\xd0\\xb8\\xd0\\xb9 \\xd0\\xbf\\xd1\\x83\\xd1\\x88\\xd0\\xb8\\xd1\\x81\\xd1\\x82\\xd1\\x8b\\xd0\\xb9 \\xd0\\xb4\\xd1\\x8c\\xd1\\x8f\\xd0\\xb2\\xd0\\xbe\\xd0\\xbb \\xd0\\xb2\\xd1\\x81\\xd1\\x8e \\xd0\\xbd\\xd0\\xbe\\xd1\\x87\\xd1\\x8c \\xd1\\x81\\xd0\\xbf\\xd0\\xb0\\xd1\\x82\\xd1\\x8c \\xd0\\xbd\\xd0\\xb5 \\xd0\\xb4\\xd0\\xb0\\xd0\\xb2\\xd0\\xb0\\xd0\\xbb:('\n",
      " 'D' '&lt'\n",
      " '( \\xd0\\xbd\\xd0\\xb0\\xd0\\xb4\\xd0\\xbe \\xd1\\x81 \\xd0\\xbe\\xd0\\xb4\\xd0\\xbd\\xd0\\xbe\\xd0\\xba\\xd0\\xbb\\xd0\\xb0\\xd1\\x81\\xd1\\x81\\xd0\\xbd\\xd0\\xb8\\xd1\\x86\\xd0\\xb5\\xd0\\xb9 \\xd0\\xb2 \\xd0\\x92\\xd0\\xb0\\xd0\\xb2\\xd0\\xb8\\xd0\\xbb\\xd0\\xbe\\xd0\\xbd \\xd0\\xb5\\xd1\\x85\\xd0\\xb0\\xd1\\x82\\xd1\\x8c... \\xd0\\x9d\\xd0\\xb0\\xd0\\xb4\\xd0\\xb5\\xd1\\x8e\\xd1\\x81\\xd1\\x8c \\xd1\\x85\\xd0\\xbe\\xd1\\x82\\xd1\\x8c \\xd0\\xbe\\xd0\\xbd\\xd0\\xb0 \\xd1\\x84\\xd0\\xbe\\xd1\\x82\\xd0\\xb8\\xd0\\xba \\xd0\\xb2\\xd0\\xbe\\xd0\\xb7\\xd1\\x8c\\xd0\\xbc\\xd0\\xb5\\xd1\\x82'\n",
      " '( \\xd1\\x81\\xd0\\xba\\xd0\\xbe\\xd1\\x84\\xd0\\xb8\\xd0\\xbb\\xd0\\xb4 \\xd0\\xb2 \\xd0\\xb3\\xd1\\x80\\xd0\\xbe\\xd0\\xb1\\xd1\\x83 \\xd0\\xbf\\xd0\\xb5\\xd1\\x80\\xd0\\xb5\\xd0\\xb2\\xd0\\xb5\\xd1\\x80\\xd0\\xbd\\xd0\\xb5\\xd1\\x82\\xd1\\x81\\xd1\\x8f...'\n",
      " '( #\\xd0\\x9f\\xd0\\xb5\\xd1\\x87\\xd0\\xb0\\xd0\\xbb\\xd1\\x8c\\xd0\\x91\\xd0\\xb5\\xd0\\xb4\\xd0\\xb0'\n",
      " '(((((((((((((('\n",
      " ' \\xd0\\x90 \\xd0\\xbc\\xd0\\xbe\\xd0\\xb9 \\xd1\\x84\\xd0\\xb1 \\xd1\\x81\\xd0\\xb0\\xd0\\xbc\\xd1\\x8b\\xd0\\xb9 \\xd0\\xb2\\xd0\\xb0\\xd0\\xb6\\xd0\\xbd\\xd1\\x8b\\xd0\\xb9 \\xd0\\xbc\\xd0\\xbe\\xd0\\xbc\\xd0\\xb5\\xd0\\xbd\\xd1\\x82 \\xd1\\x8d\\xd1\\x82\\xd0\\xbe\\xd0\\xb3\\xd0\\xbe \\xd0\\xb3\\xd0\\xbe\\xd0\\xb4\\xd0\\xb0 \\xd0\\xbd\\xd0\\xb5 \\xd0\\xb7\\xd0\\xb0\\xd1\\x84\\xd0\\xb8\\xd0\\xba\\xd1\\x81\\xd0\\xb8\\xd1\\x80\\xd0\\xbe\\xd0\\xb2\\xd0\\xb0\\xd0\\xbb (('\n",
      " ' Hickstead-\\xd0\\xbd\\xd0\\xb5\\xd0\\xbf\\xd0\\xbe\\xd0\\xb1\\xd0\\xb5\\xd0\\xb4\\xd0\\xb8\\xd0\\xbc\\xd1\\x8b\\xd0\\xb5 \\xd0\\xb8 \\xd0\\xbd\\xd0\\xb5\\xd0\\xbf\\xd0\\xbe\\xd0\\xba\\xd0\\xbe\\xd0\\xbb\\xd0\\xb5\\xd0\\xb1\\xd0\\xb8\\xd0\\xbc\\xd1\\x8b\\xd0\\xb5 \\xd1\\x81\\xd0\\xb5\\xd1\\x80\\xd0\\xb4\\xd1\\x86\\xd0\\xb0!\\xd0\\xa5\\xd0\\xb8\\xd0\\xba\\xd1\\x81\\xd1\\x82\\xd0\\xb5\\xd0\\xb4 \\xd0\\xbd\\xd0\\xb0\\xd0\\xb2\\xd1\\x81\\xd0\\xb5\\xd0\\xb3\\xd0\\xb4\\xd0\\xb0 \\xd0\\xbe\\xd1\\x81\\xd1\\x82\\xd0\\xb0\\xd0\\xbd\\xd0\\xb5\\xd1\\x82\\xd1\\x81\\xd1\\x8f  \\xd0\\xb2 \\xd1\\x81\\xd0\\xb5\\xd1\\x80\\xd0\\xb4\\xd1\\x86\\xd0\\xb0\\xd1\\x85(( http://t.co/YIHaNjX0Nx'\n",
      " '( http://t.co/MP1p6XJFks'\n",
      " '( \\xd0\\xbf\\xd0\\xbe \\xd1\\x85\\xd0\\xbe\\xd0\\xb4\\xd1\\x83 \\xd0\\xb4\\xd0\\xb5\\xd0\\xbb\\xd0\\xb0 \\xd0\\xbd\\xd0\\xb5\\xd0\\xbf\\xd1\\x80\\xd0\\xb0\\xd0\\xb2\\xd0\\xb8\\xd0\\xbb\\xd1\\x8c\\xd0\\xbd\\xd1\\x8b\\xd0\\xb9'\n",
      " ' \\xd0\\xb2\\xd1\\x81\\xd0\\xb5-\\xd1\\x82\\xd0\\xb0\\xd0\\xba\\xd0\\xb8 \\xd0\\xa1\\xd0\\xbf\\xd0\\xb0\\xd0\\xbb\\xd0\\xbb\\xd0\\xb5\\xd1\\x82\\xd1\\x82\\xd0\\xb8 \\xd1\\x80\\xd0\\xbe\\xd0\\xb4\\xd0\\xb8\\xd0\\xbb\\xd1\\x81\\xd1\\x8f \\xd0\\xb2 \\xd1\\x80\\xd1\\x83\\xd0\\xb1\\xd0\\xb0\\xd1\\x88\\xd0\\xba\\xd0\\xb5(('\n",
      " '((( \\xd0\\xb5\\xd0\\xb1\\xd0\\xb0\\xd0\\xbd\\xd0\\xb0\\xd1\\x8f \\xd0\\xb1\\xd0\\xbe\\xd0\\xbb\\xd1\\x8c\\xd0\\xbd\\xd0\\xb8\\xd1\\x86\\xd0\\xb0!!!((((']\n"
     ]
    }
   ],
   "source": [
    "print y_test.unique()"
   ]
  },
  {
   "cell_type": "code",
   "execution_count": 12,
   "metadata": {
    "scrolled": true
   },
   "outputs": [
    {
     "name": "stdout",
     "output_type": "stream",
     "text": [
      "0.7216685649202733\n",
      "0.713951447791752\n",
      "0.7141603276770041\n"
     ]
    }
   ],
   "source": [
    "print accuracy_score(y_test,y_predict)\n",
    "print recall_score(y_test,y_predict)\n",
    "print precision_score(y_test,y_predict)"
   ]
  },
  {
   "cell_type": "code",
   "execution_count": 9,
   "metadata": {},
   "outputs": [
    {
     "name": "stdout",
     "output_type": "stream",
     "text": [
      "(16387, 45718)\n"
     ]
    }
   ],
   "source": [
    "print X_train.shape"
   ]
  },
  {
   "cell_type": "code",
   "execution_count": 13,
   "metadata": {},
   "outputs": [
    {
     "name": "stdout",
     "output_type": "stream",
     "text": [
      "0.6406605922551253\n",
      "0.4609534951740275\n",
      "0.6982720425343376\n"
     ]
    }
   ],
   "source": [
    "from sklearn.ensemble import RandomForestClassifier\n",
    "from sklearn.linear_model import LogisticRegression\n",
    "from sklearn.naive_bayes import GaussianNB\n",
    "from sklearn.neural_network import MLPClassifier\n",
    "from sklearn.metrics import accuracy_score\n",
    "from sklearn.metrics import recall_score\n",
    "from sklearn.metrics import precision_score\n",
    "\n",
    "rf = RandomForestClassifier()\n",
    "rf.fit(X_train,y_train)\n",
    "y_predict = rf.predict(X_test)\n",
    "print accuracy_score(y_test,y_predict)\n",
    "print recall_score(y_test,y_predict)\n",
    "print precision_score(y_test,y_predict)"
   ]
  },
  {
   "cell_type": "code",
   "execution_count": 27,
   "metadata": {},
   "outputs": [
    {
     "name": "stdout",
     "output_type": "stream",
     "text": [
      "count    6983.000000\n",
      "mean        0.493484\n",
      "std         0.499993\n",
      "min         0.000000\n",
      "25%         0.000000\n",
      "50%         0.000000\n",
      "75%         1.000000\n",
      "max         1.000000\n",
      "Name: type, dtype: float64\n"
     ]
    }
   ],
   "source": [
    "print y_test = pd.to_numeric(, errors='coerce')"
   ]
  },
  {
   "cell_type": "code",
   "execution_count": 14,
   "metadata": {},
   "outputs": [
    {
     "name": "stdout",
     "output_type": "stream",
     "text": [
      "0.7216685649202733\n",
      "0.713951447791752\n",
      "0.7141603276770041\n"
     ]
    }
   ],
   "source": [
    "lr = LogisticRegression()\n",
    "lr.fit(X_train,y_train)\n",
    "y_predict = lr.predict(X_test)\n",
    "print accuracy_score(y_test,y_predict)\n",
    "print recall_score(y_test,y_predict)\n",
    "print precision_score(y_test,y_predict)"
   ]
  },
  {
   "cell_type": "code",
   "execution_count": 9,
   "metadata": {
    "collapsed": true
   },
   "outputs": [
    {
     "name": "stdout",
     "output_type": "stream",
     "text": [
      "  (0, 17855)\t0.3632749087287897\n",
      "  (0, 34853)\t0.5146380632964764\n",
      "  (0, 35807)\t0.4270030160734896\n",
      "  (0, 37143)\t0.3269706836834082\n",
      "  (0, 4842)\t0.15663657554575744\n",
      "  (0, 2774)\t0.1566851868494258\n",
      "  (0, 5820)\t0.5146380632964764\n",
      "  (1, 3761)\t0.3099377575506138\n",
      "  (1, 38812)\t0.2711531767643546\n",
      "  (1, 30915)\t0.3099377575506138\n",
      "  (1, 18245)\t0.3099377575506138\n",
      "  (1, 15435)\t0.3099377575506138\n",
      "  (1, 45430)\t0.18790940750381901\n",
      "  (1, 34104)\t0.3099377575506138\n",
      "  (1, 23283)\t0.28847845240090675\n",
      "  (1, 45609)\t0.27592556359679565\n",
      "  (1, 33194)\t0.3099377575506138\n",
      "  (1, 31139)\t0.3099377575506138\n",
      "  (1, 27825)\t0.24368295030184117\n",
      "  (2, 4842)\t0.14441833574362237\n",
      "  (2, 2774)\t0.14446315518346045\n",
      "  (2, 25716)\t0.16322340178414507\n",
      "  (2, 37599)\t0.20014273283529754\n",
      "  (2, 40540)\t0.2636500189724436\n",
      "  (2, 43851)\t0.3587355326504834\n",
      "  :\t:\n",
      "  (16385, 45440)\t0.3289778924642425\n",
      "  (16385, 44661)\t0.19017139492878005\n",
      "  (16385, 30646)\t0.21080951504394743\n",
      "  (16385, 15540)\t0.19900111673669763\n",
      "  (16385, 27583)\t0.1720742091483677\n",
      "  (16385, 36565)\t0.2065813657778124\n",
      "  (16385, 18487)\t0.23099610528296644\n",
      "  (16385, 45649)\t0.25956088745375455\n",
      "  (16385, 6941)\t0.2797474776927736\n",
      "  (16385, 18160)\t0.23704320594473724\n",
      "  (16385, 41626)\t0.23099610528296644\n",
      "  (16385, 39443)\t0.2915558760000234\n",
      "  (16385, 20714)\t0.2915558760000234\n",
      "  (16385, 39442)\t0.2915558760000234\n",
      "  (16385, 32234)\t0.2915558760000234\n",
      "  (16386, 26063)\t0.1444750980253881\n",
      "  (16386, 44660)\t0.11744405147878657\n",
      "  (16386, 31636)\t0.23429639223554402\n",
      "  (16386, 37142)\t0.26006453438240473\n",
      "  (16386, 123)\t0.296315776983906\n",
      "  (16386, 34806)\t0.3860932627810919\n",
      "  (16386, 18620)\t0.3466696009847101\n",
      "  (16386, 8320)\t0.40239061447936814\n",
      "  (16386, 3993)\t0.40239061447936814\n",
      "  (16386, 23575)\t0.40239061447936814\n"
     ]
    }
   ],
   "source": [
    "from sklearn.decomposition import PCA\n",
    "p = PCA(n_components = 1000)\n",
    "X_train = p.fit_transform(X_train)\n",
    "X_test = p.transform(X_test)\n",
    "\n",
    "nb = GaussianNB()\n",
    "nb.fit(X_train,y_train)\n",
    "y_predict = nb.predict(pd.DataFrame(X_test))\n",
    "accuracy_score(y_test,y_predict)"
   ]
  },
  {
   "cell_type": "code",
   "execution_count": 15,
   "metadata": {},
   "outputs": [
    {
     "name": "stdout",
     "output_type": "stream",
     "text": [
      "0.6896355353075171\n",
      "0.6759286341035391\n",
      "0.683121489801951\n"
     ]
    }
   ],
   "source": [
    "X_train.shape\n",
    "from sklearn.neural_network import MLPClassifier\n",
    "mlp = MLPClassifier()\n",
    "mlp.fit(X_train,y_train)\n",
    "y_predict = mlp.predict(X_test)\n",
    "print accuracy_score(y_test,y_predict)\n",
    "print recall_score(y_test,y_predict)\n",
    "print precision_score(y_test,y_predict)"
   ]
  },
  {
   "cell_type": "code",
   "execution_count": 16,
   "metadata": {},
   "outputs": [
    {
     "name": "stdout",
     "output_type": "stream",
     "text": [
      "0.6146070615034168\n",
      "0.5220824802573852\n",
      "0.6245626312106368\n"
     ]
    }
   ],
   "source": [
    "from sklearn.tree import DecisionTreeClassifier\n",
    "dt = DecisionTreeClassifier()\n",
    "dt.fit(X_train,y_train)\n",
    "y_predict = dt.predict(X_test)\n",
    "\n",
    "print accuracy_score(y_test,y_predict)\n",
    "print recall_score(y_test,y_predict)\n",
    "print precision_score(y_test,y_predict)"
   ]
  },
  {
   "cell_type": "code",
   "execution_count": 17,
   "metadata": {},
   "outputs": [
    {
     "name": "stdout",
     "output_type": "stream",
     "text": [
      "0.5132403189066059\n",
      "0.0\n",
      "0.0\n"
     ]
    },
    {
     "name": "stderr",
     "output_type": "stream",
     "text": [
      "/home/vakidzaci/.local/lib/python2.7/site-packages/sklearn/metrics/classification.py:1135: UndefinedMetricWarning: Precision is ill-defined and being set to 0.0 due to no predicted samples.\n",
      "  'precision', 'predicted', average, warn_for)\n"
     ]
    }
   ],
   "source": [
    "from sklearn.svm import SVC\n",
    "sv = SVC()\n",
    "sv.fit(X_train,y_train)\n",
    "y_predict = sv.predict(X_test)\n",
    "print accuracy_score(y_test,y_predict)\n",
    "print recall_score(y_test,y_predict)\n",
    "print precision_score(y_test,y_predict)"
   ]
  },
  {
   "cell_type": "code",
   "execution_count": 9,
   "metadata": {},
   "outputs": [],
   "source": [
    "data = pd.read_csv('text.csv')\n",
    "\n",
    "X,y = data['text'],data.type\n",
    "X = X.str.lower()\n",
    "X_train,X_test,y_train,y_test = tts(X,y,test_size=0.3)\n",
    "X_train = vectorizer.fit_transform(X_train)\n"
   ]
  },
  {
   "cell_type": "code",
   "execution_count": 11,
   "metadata": {},
   "outputs": [],
   "source": [
    "X_test = vectorizer.transform(X_test)"
   ]
  },
  {
   "cell_type": "code",
   "execution_count": 12,
   "metadata": {},
   "outputs": [
    {
     "data": {
      "text/plain": [
       "0.7162585421412301"
      ]
     },
     "execution_count": 12,
     "metadata": {},
     "output_type": "execute_result"
    }
   ],
   "source": [
    "lr = LogisticRegression()\n",
    "lr.fit(X_train,y_train)\n",
    "y_predict = lr.predict(X_test)\n",
    "accuracy_score(y_test,y_predict)"
   ]
  },
  {
   "cell_type": "code",
   "execution_count": null,
   "metadata": {},
   "outputs": [
    {
     "name": "stdout",
     "output_type": "stream",
     "text": [
      "0      Как же лень куда то идти... Но Пора выходить :(\n",
      "1    RT @hozufolacaqa: Блин, не могу настроить рабо...\n",
      "2    @Mintimerka если тебя нет в твитере, то тебя п...\n",
      "3    @Mea_Dementia ну мы можем это все перебрать, о...\n",
      "4    продавщицы, которые пугают и орут как бешеные,...\n",
      "Name: text, dtype: object\n",
      "********************\n"
     ]
    }
   ],
   "source": [
    "import pymorphy2\n",
    "morph = pymorphy2.MorphAnalyzer()\n",
    "\n",
    "X,y = data['text'],data.type\n",
    "print X.head(5)\n",
    "print \"********************\"\n",
    "for i in range(0, len(X)):\n",
    "    s = X.iloc[i]\n",
    "    s = s.split()\n",
    "    for ss in s:\n",
    "        ss = morph.parse(ss.decode('utf-8'))[0].normal_form\n",
    "    X.iloc[i] = \" \".join(s)\n",
    "print X.head(5)\n",
    "X = X.str.lower()\n",
    "X = X.str.replace('\\n','')\n",
    "X.head(20)\n",
    "X_train,X_test,y_train,y_test = tts(X,y,test_size=0.3)\n",
    "X_train = vectorizer.fit_transform(X_train)\n",
    "X_test = vectorizer.transform(X_test)\n",
    "\n",
    "lr = LogisticRegression()\n",
    "lr.fit(X_train,y_train)\n",
    "y_predict = lr.predict(X_test)\n",
    "accuracy_score(y_test,y_predict)"
   ]
  },
  {
   "cell_type": "code",
   "execution_count": null,
   "metadata": {},
   "outputs": [],
   "source": [
    "data = pd.read_csv('text.csv')\n",
    "\n",
    "X,y = data['text'],data.type\n",
    "X_train,X_test,y_train,y_test = tts(X,y,test_size=0.3)\n",
    "X_train = vectorizer.fit_transform(X_train)\n",
    "X_test = vectorizer.transform(X_test)\n",
    "\n",
    "import pymorphy2\n",
    "morph = pymorphy2.MorphAnalyzer()\n",
    "import string\n",
    "\n",
    "print data.head()\n",
    "\n",
    "lr = LogisticRegression()\n",
    "lr.fit(X_train,y_train)\n",
    "y_predict = lr.predict(X_test)\n",
    "print accuracy_score(y_test,y_predict)\n",
    "print X_train.shape\n",
    "\n",
    "def remove_punctuation(s):\n",
    "    s = ' '.join([i for i in s if i not in frozenset(string.punctuation)])\n",
    "    return s\n",
    "\n",
    "data['text'] = data['text'].apply(remove_punctuation)\n",
    "print data.head()\n",
    "X,y = data['text'],data.type\n",
    "X.head(20)\n",
    "X_train,X_test,y_train,y_test = tts(X,y,test_size=0.3)\n",
    "X_train = vectorizer.fit_transform(X_train)\n",
    "X_test = vectorizer.transform(X_test)\n",
    "\n",
    "lr = LogisticRegression()\n",
    "lr.fit(X_train,y_train)\n",
    "y_predict = lr.predict(X_test)\n",
    "print accuracy_score(y_test,y_predict)\n",
    "print X_train.shape"
   ]
  }
 ],
 "metadata": {
  "kernelspec": {
   "display_name": "Python 2",
   "language": "python",
   "name": "python2"
  },
  "language_info": {
   "codemirror_mode": {
    "name": "ipython",
    "version": 2
   },
   "file_extension": ".py",
   "mimetype": "text/x-python",
   "name": "python",
   "nbconvert_exporter": "python",
   "pygments_lexer": "ipython2",
   "version": "2.7.12"
  }
 },
 "nbformat": 4,
 "nbformat_minor": 2
}
